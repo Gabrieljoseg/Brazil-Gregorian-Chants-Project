{
  "nbformat": 4,
  "nbformat_minor": 0,
  "metadata": {
    "colab": {
      "provenance": [],
      "authorship_tag": "ABX9TyNPW+RCcHVHv3ortN7+Ee2I",
      "include_colab_link": true
    },
    "kernelspec": {
      "name": "python3",
      "display_name": "Python 3"
    },
    "language_info": {
      "name": "python"
    }
  },
  "cells": [
    {
      "cell_type": "markdown",
      "metadata": {
        "id": "view-in-github",
        "colab_type": "text"
      },
      "source": [
        "<a href=\"https://colab.research.google.com/github/ruantos/Brazil-Gregorian-Chants-Project/blob/main/xml_io.ipynb\" target=\"_parent\"><img src=\"https://colab.research.google.com/assets/colab-badge.svg\" alt=\"Open In Colab\"/></a>"
      ]
    },
    {
      "cell_type": "code",
      "execution_count": 1,
      "metadata": {
        "id": "qoKVy-vFlQaf"
      },
      "outputs": [],
      "source": [
        "import pandas as pd"
      ]
    },
    {
      "cell_type": "code",
      "source": [
        "URL = \"./100_movies.xml\"\n",
        "data = pd.read_xml(URL)"
      ],
      "metadata": {
        "colab": {
          "base_uri": "https://localhost:8080/",
          "height": 787
        },
        "id": "AvFu8eZnlYNN",
        "outputId": "a1abe04d-c287-4788-ed7f-4d88f8529156"
      },
      "execution_count": 3,
      "outputs": [
        {
          "output_type": "error",
          "ename": "XMLSyntaxError",
          "evalue": "Premature end of data in tag data line 1, line 20, column 9 (<string>, line 20)",
          "traceback": [
            "Traceback \u001b[0;36m(most recent call last)\u001b[0m:\n",
            "  File \u001b[1;32m\"/usr/local/lib/python3.11/dist-packages/IPython/core/interactiveshell.py\"\u001b[0m, line \u001b[1;32m3553\u001b[0m, in \u001b[1;35mrun_code\u001b[0m\n    exec(code_obj, self.user_global_ns, self.user_ns)\n",
            "  File \u001b[1;32m\"/tmp/ipython-input-3-2014309244.py\"\u001b[0m, line \u001b[1;32m2\u001b[0m, in \u001b[1;35m<cell line: 0>\u001b[0m\n    data = pd.read_xml(URL)\n",
            "  File \u001b[1;32m\"/usr/local/lib/python3.11/dist-packages/pandas/io/xml.py\"\u001b[0m, line \u001b[1;32m1160\u001b[0m, in \u001b[1;35mread_xml\u001b[0m\n    return _parse(\n",
            "  File \u001b[1;32m\"/usr/local/lib/python3.11/dist-packages/pandas/io/xml.py\"\u001b[0m, line \u001b[1;32m852\u001b[0m, in \u001b[1;35m_parse\u001b[0m\n    data_dicts = p.parse_data()\n",
            "  File \u001b[1;32m\"/usr/local/lib/python3.11/dist-packages/pandas/io/xml.py\"\u001b[0m, line \u001b[1;32m556\u001b[0m, in \u001b[1;35mparse_data\u001b[0m\n    self.xml_doc = self._parse_doc(self.path_or_buffer)\n",
            "  File \u001b[1;32m\"/usr/local/lib/python3.11/dist-packages/pandas/io/xml.py\"\u001b[0m, line \u001b[1;32m647\u001b[0m, in \u001b[1;35m_parse_doc\u001b[0m\n    document = fromstring(\n",
            "  File \u001b[1;32m\"src/lxml/etree.pyx\"\u001b[0m, line \u001b[1;32m3307\u001b[0m, in \u001b[1;35mlxml.etree.fromstring\u001b[0m\n",
            "  File \u001b[1;32m\"src/lxml/parser.pxi\"\u001b[0m, line \u001b[1;32m1995\u001b[0m, in \u001b[1;35mlxml.etree._parseMemoryDocument\u001b[0m\n",
            "  File \u001b[1;32m\"src/lxml/parser.pxi\"\u001b[0m, line \u001b[1;32m1882\u001b[0m, in \u001b[1;35mlxml.etree._parseDoc\u001b[0m\n",
            "  File \u001b[1;32m\"src/lxml/parser.pxi\"\u001b[0m, line \u001b[1;32m1164\u001b[0m, in \u001b[1;35mlxml.etree._BaseParser._parseDoc\u001b[0m\n",
            "  File \u001b[1;32m\"src/lxml/parser.pxi\"\u001b[0m, line \u001b[1;32m633\u001b[0m, in \u001b[1;35mlxml.etree._ParserContext._handleParseResultDoc\u001b[0m\n",
            "  File \u001b[1;32m\"src/lxml/parser.pxi\"\u001b[0m, line \u001b[1;32m743\u001b[0m, in \u001b[1;35mlxml.etree._handleParseResult\u001b[0m\n",
            "\u001b[0;36m  File \u001b[0;32m\"src/lxml/parser.pxi\"\u001b[0;36m, line \u001b[0;32m672\u001b[0;36m, in \u001b[0;35mlxml.etree._raiseParseError\u001b[0;36m\u001b[0m\n",
            "\u001b[0;36m  File \u001b[0;32m\"<string>\"\u001b[0;36m, line \u001b[0;32m20\u001b[0m\n\u001b[0;31mXMLSyntaxError\u001b[0m\u001b[0;31m:\u001b[0m Premature end of data in tag data line 1, line 20, column 9\n"
          ]
        }
      ]
    },
    {
      "cell_type": "code",
      "source": [
        "data.to_xml(\"100_movies.xml\")"
      ],
      "metadata": {
        "id": "n7718yZdlmDd"
      },
      "execution_count": null,
      "outputs": []
    }
  ]
}